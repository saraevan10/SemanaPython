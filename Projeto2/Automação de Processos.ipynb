{
 "cells": [
  {
   "cell_type": "markdown",
   "id": "af22789e",
   "metadata": {},
   "source": [
    "# Automação de Processos"
   ]
  },
  {
   "cell_type": "markdown",
   "id": "3f2709d2",
   "metadata": {},
   "source": [
    "## Problema a ser resolvido\n",
    "\n",
    "- Busca, de forma automática, informações de ações da bolsa de valores\n",
    "- Criar as análises solicitada pelo Gestor\n",
    "- Enviar, automaticamente, um email com os resultados das análises\n"
   ]
  },
  {
   "cell_type": "markdown",
   "id": "8b83329a",
   "metadata": {},
   "source": [
    "## Bibliotecas"
   ]
  },
  {
   "cell_type": "code",
   "execution_count": 1,
   "id": "c4699d6c",
   "metadata": {},
   "outputs": [
    {
     "name": "stdout",
     "output_type": "stream",
     "text": [
      "Collecting yfinance\n",
      "  Obtaining dependency information for yfinance from https://files.pythonhosted.org/packages/e6/b3/388ab967a387cc92926f70e97688dd9a7189b29a0773db815ffc5289e2b5/yfinance-0.2.31-py2.py3-none-any.whl.metadata\n",
      "  Downloading yfinance-0.2.31-py2.py3-none-any.whl.metadata (11 kB)\n",
      "Requirement already satisfied: pandas>=1.3.0 in c:\\users\\01979194211\\anaconda3\\lib\\site-packages (from yfinance) (2.0.3)\n",
      "Requirement already satisfied: numpy>=1.16.5 in c:\\users\\01979194211\\anaconda3\\lib\\site-packages (from yfinance) (1.24.3)\n",
      "Requirement already satisfied: requests>=2.31 in c:\\users\\01979194211\\anaconda3\\lib\\site-packages (from yfinance) (2.31.0)\n",
      "Collecting multitasking>=0.0.7 (from yfinance)\n",
      "  Downloading multitasking-0.0.11-py3-none-any.whl (8.5 kB)\n",
      "Requirement already satisfied: lxml>=4.9.1 in c:\\users\\01979194211\\anaconda3\\lib\\site-packages (from yfinance) (4.9.3)\n",
      "Requirement already satisfied: appdirs>=1.4.4 in c:\\users\\01979194211\\anaconda3\\lib\\site-packages (from yfinance) (1.4.4)\n",
      "Requirement already satisfied: pytz>=2022.5 in c:\\users\\01979194211\\anaconda3\\lib\\site-packages (from yfinance) (2023.3.post1)\n",
      "Collecting frozendict>=2.3.4 (from yfinance)\n",
      "  Downloading frozendict-2.3.8-py311-none-any.whl (14 kB)\n",
      "Collecting peewee>=3.16.2 (from yfinance)\n",
      "  Downloading peewee-3.17.0.tar.gz (2.9 MB)\n",
      "     ---------------------------------------- 0.0/2.9 MB ? eta -:--:--\n",
      "     ---------------------------------------- 0.0/2.9 MB ? eta -:--:--\n",
      "      --------------------------------------- 0.1/2.9 MB 825.8 kB/s eta 0:00:04\n",
      "     - -------------------------------------- 0.1/2.9 MB 1.2 MB/s eta 0:00:03\n",
      "     ---- ----------------------------------- 0.3/2.9 MB 2.0 MB/s eta 0:00:02\n",
      "     ------- -------------------------------- 0.5/2.9 MB 2.6 MB/s eta 0:00:01\n",
      "     ---------- ----------------------------- 0.7/2.9 MB 2.9 MB/s eta 0:00:01\n",
      "     --------------- ------------------------ 1.1/2.9 MB 3.7 MB/s eta 0:00:01\n",
      "     ----------------------- ---------------- 1.7/2.9 MB 4.9 MB/s eta 0:00:01\n",
      "     ---------------------------------------  2.9/2.9 MB 7.8 MB/s eta 0:00:01\n",
      "     ---------------------------------------- 2.9/2.9 MB 7.2 MB/s eta 0:00:00\n",
      "  Installing build dependencies: started\n",
      "  Installing build dependencies: finished with status 'done'\n",
      "  Getting requirements to build wheel: started\n",
      "  Getting requirements to build wheel: finished with status 'done'\n",
      "  Preparing metadata (pyproject.toml): started\n",
      "  Preparing metadata (pyproject.toml): finished with status 'done'\n",
      "Requirement already satisfied: beautifulsoup4>=4.11.1 in c:\\users\\01979194211\\anaconda3\\lib\\site-packages (from yfinance) (4.12.2)\n",
      "Collecting html5lib>=1.1 (from yfinance)\n",
      "  Downloading html5lib-1.1-py2.py3-none-any.whl (112 kB)\n",
      "     ---------------------------------------- 0.0/112.2 kB ? eta -:--:--\n",
      "     -------------------------------------- 112.2/112.2 kB 6.4 MB/s eta 0:00:00\n",
      "Requirement already satisfied: soupsieve>1.2 in c:\\users\\01979194211\\anaconda3\\lib\\site-packages (from beautifulsoup4>=4.11.1->yfinance) (2.4)\n",
      "Requirement already satisfied: six>=1.9 in c:\\users\\01979194211\\anaconda3\\lib\\site-packages (from html5lib>=1.1->yfinance) (1.16.0)\n",
      "Requirement already satisfied: webencodings in c:\\users\\01979194211\\anaconda3\\lib\\site-packages (from html5lib>=1.1->yfinance) (0.5.1)\n",
      "Requirement already satisfied: python-dateutil>=2.8.2 in c:\\users\\01979194211\\anaconda3\\lib\\site-packages (from pandas>=1.3.0->yfinance) (2.8.2)\n",
      "Requirement already satisfied: tzdata>=2022.1 in c:\\users\\01979194211\\anaconda3\\lib\\site-packages (from pandas>=1.3.0->yfinance) (2023.3)\n",
      "Requirement already satisfied: charset-normalizer<4,>=2 in c:\\users\\01979194211\\anaconda3\\lib\\site-packages (from requests>=2.31->yfinance) (2.0.4)\n",
      "Requirement already satisfied: idna<4,>=2.5 in c:\\users\\01979194211\\anaconda3\\lib\\site-packages (from requests>=2.31->yfinance) (3.4)\n",
      "Requirement already satisfied: urllib3<3,>=1.21.1 in c:\\users\\01979194211\\anaconda3\\lib\\site-packages (from requests>=2.31->yfinance) (1.26.16)\n",
      "Requirement already satisfied: certifi>=2017.4.17 in c:\\users\\01979194211\\anaconda3\\lib\\site-packages (from requests>=2.31->yfinance) (2023.7.22)\n",
      "Downloading yfinance-0.2.31-py2.py3-none-any.whl (65 kB)\n",
      "   ---------------------------------------- 0.0/65.6 kB ? eta -:--:--\n",
      "   ---------------------------------------- 65.6/65.6 kB 1.7 MB/s eta 0:00:00\n",
      "Building wheels for collected packages: peewee\n",
      "  Building wheel for peewee (pyproject.toml): started\n",
      "  Building wheel for peewee (pyproject.toml): finished with status 'done'\n",
      "  Created wheel for peewee: filename=peewee-3.17.0-py3-none-any.whl size=135767 sha256=f06b6470798db0c2be0789a93d0d6dcd2030f8d0cd24f775c77d9853be45503f\n",
      "  Stored in directory: c:\\users\\01979194211\\appdata\\local\\pip\\cache\\wheels\\02\\20\\23\\74a10d0cd31f5d41c19b92ddf4c138ceff01b9f4675f19dbf5\n",
      "Successfully built peewee\n",
      "Installing collected packages: peewee, multitasking, html5lib, frozendict, yfinance\n",
      "Successfully installed frozendict-2.3.8 html5lib-1.1 multitasking-0.0.11 peewee-3.17.0 yfinance-0.2.31\n"
     ]
    }
   ],
   "source": [
    "!pip install yfinance"
   ]
  },
  {
   "cell_type": "code",
   "execution_count": 2,
   "id": "d7887f12",
   "metadata": {},
   "outputs": [
    {
     "name": "stdout",
     "output_type": "stream",
     "text": [
      "Collecting pyautogui\n",
      "  Downloading PyAutoGUI-0.9.54.tar.gz (61 kB)\n",
      "     ---------------------------------------- 0.0/61.2 kB ? eta -:--:--\n",
      "     ------ --------------------------------- 10.2/61.2 kB ? eta -:--:--\n",
      "     ------------ ------------------------- 20.5/61.2 kB 165.2 kB/s eta 0:00:01\n",
      "     ------------------- ------------------ 30.7/61.2 kB 187.9 kB/s eta 0:00:01\n",
      "     ------------------------------- ------ 51.2/61.2 kB 262.6 kB/s eta 0:00:01\n",
      "     -------------------------------------- 61.2/61.2 kB 272.7 kB/s eta 0:00:00\n",
      "  Installing build dependencies: started\n",
      "  Installing build dependencies: finished with status 'done'\n",
      "  Getting requirements to build wheel: started\n",
      "  Getting requirements to build wheel: finished with status 'done'\n",
      "  Preparing metadata (pyproject.toml): started\n",
      "  Preparing metadata (pyproject.toml): finished with status 'done'\n",
      "Collecting pymsgbox (from pyautogui)\n",
      "  Downloading PyMsgBox-1.0.9.tar.gz (18 kB)\n",
      "  Installing build dependencies: started\n",
      "  Installing build dependencies: finished with status 'done'\n",
      "  Getting requirements to build wheel: started\n",
      "  Getting requirements to build wheel: finished with status 'done'\n",
      "  Preparing metadata (pyproject.toml): started\n",
      "  Preparing metadata (pyproject.toml): finished with status 'done'\n",
      "Collecting pytweening>=1.0.4 (from pyautogui)\n",
      "  Downloading pytweening-1.0.7.tar.gz (168 kB)\n",
      "     ---------------------------------------- 0.0/168.2 kB ? eta -:--:--\n",
      "     --------- ----------------------------- 41.0/168.2 kB 1.9 MB/s eta 0:00:01\n",
      "     --------------------------- ---------- 122.9/168.2 kB 1.4 MB/s eta 0:00:01\n",
      "     -------------------------------------- 168.2/168.2 kB 1.4 MB/s eta 0:00:00\n",
      "  Preparing metadata (setup.py): started\n",
      "  Preparing metadata (setup.py): finished with status 'done'\n",
      "Collecting pyscreeze>=0.1.21 (from pyautogui)\n",
      "  Downloading PyScreeze-0.1.29.tar.gz (25 kB)\n",
      "  Installing build dependencies: started\n",
      "  Installing build dependencies: finished with status 'done'\n",
      "  Getting requirements to build wheel: started\n",
      "  Getting requirements to build wheel: finished with status 'done'\n",
      "  Preparing metadata (pyproject.toml): started\n",
      "  Preparing metadata (pyproject.toml): finished with status 'done'\n",
      "Collecting pygetwindow>=0.0.5 (from pyautogui)\n",
      "  Downloading PyGetWindow-0.0.9.tar.gz (9.7 kB)\n",
      "  Preparing metadata (setup.py): started\n",
      "  Preparing metadata (setup.py): finished with status 'done'\n",
      "Collecting mouseinfo (from pyautogui)\n",
      "  Downloading MouseInfo-0.1.3.tar.gz (10 kB)\n",
      "  Preparing metadata (setup.py): started\n",
      "  Preparing metadata (setup.py): finished with status 'done'\n",
      "Collecting pyrect (from pygetwindow>=0.0.5->pyautogui)\n",
      "  Downloading PyRect-0.2.0.tar.gz (17 kB)\n",
      "  Preparing metadata (setup.py): started\n",
      "  Preparing metadata (setup.py): finished with status 'done'\n",
      "Collecting pyscreenshot (from pyscreeze>=0.1.21->pyautogui)\n",
      "  Downloading pyscreenshot-3.1-py3-none-any.whl (28 kB)\n",
      "Requirement already satisfied: Pillow>=9.3.0 in c:\\users\\01979194211\\anaconda3\\lib\\site-packages (from pyscreeze>=0.1.21->pyautogui) (9.4.0)\n",
      "Collecting pyperclip (from mouseinfo->pyautogui)\n",
      "  Downloading pyperclip-1.8.2.tar.gz (20 kB)\n",
      "  Preparing metadata (setup.py): started\n",
      "  Preparing metadata (setup.py): finished with status 'done'\n",
      "Collecting EasyProcess (from pyscreenshot->pyscreeze>=0.1.21->pyautogui)\n",
      "  Downloading EasyProcess-1.1-py3-none-any.whl (8.7 kB)\n",
      "Collecting entrypoint2 (from pyscreenshot->pyscreeze>=0.1.21->pyautogui)\n",
      "  Downloading entrypoint2-1.1-py2.py3-none-any.whl (9.9 kB)\n",
      "Collecting mss (from pyscreenshot->pyscreeze>=0.1.21->pyautogui)\n",
      "  Downloading mss-9.0.1-py3-none-any.whl (22 kB)\n",
      "Building wheels for collected packages: pyautogui, pygetwindow, pyscreeze, pytweening, mouseinfo, pymsgbox, pyperclip, pyrect\n",
      "  Building wheel for pyautogui (pyproject.toml): started\n",
      "  Building wheel for pyautogui (pyproject.toml): finished with status 'done'\n",
      "  Created wheel for pyautogui: filename=PyAutoGUI-0.9.54-py3-none-any.whl size=37597 sha256=993af38cad84178bc5981e43511d572ff4f6abb6512cbec87483efb8d87a3082\n",
      "  Stored in directory: c:\\users\\01979194211\\appdata\\local\\pip\\cache\\wheels\\95\\dc\\b1\\fe122b791e0db8bf439a0e6e1d2628e48f10bf430cae13521b\n",
      "  Building wheel for pygetwindow (setup.py): started\n",
      "  Building wheel for pygetwindow (setup.py): finished with status 'done'\n",
      "  Created wheel for pygetwindow: filename=PyGetWindow-0.0.9-py3-none-any.whl size=11079 sha256=ad6722185020716900638a6d37518abcf31a0167ba0a8e6fcfd4039128380a7a\n",
      "  Stored in directory: c:\\users\\01979194211\\appdata\\local\\pip\\cache\\wheels\\07\\75\\0b\\7ca0b598eb4c21d43ba4bcc78a0538dfcf803a5997da33bc19\n",
      "  Building wheel for pyscreeze (pyproject.toml): started\n",
      "  Building wheel for pyscreeze (pyproject.toml): finished with status 'done'\n",
      "  Created wheel for pyscreeze: filename=PyScreeze-0.1.29-py3-none-any.whl size=13484 sha256=602ab8e07451c5bc94b11d829de0bfe4a36a31b6eb3703af856acbaf7d2c7525\n",
      "  Stored in directory: c:\\users\\01979194211\\appdata\\local\\pip\\cache\\wheels\\d3\\bd\\06\\4b4c57f65e89d1ab7a63a924c12aca4784cd95e74940371b5e\n",
      "  Building wheel for pytweening (setup.py): started\n",
      "  Building wheel for pytweening (setup.py): finished with status 'done'\n",
      "  Created wheel for pytweening: filename=pytweening-1.0.7-py3-none-any.whl size=6214 sha256=deccd373c83b52a557af56de86e9a6d874447f32602ef9454e41a02743101584\n",
      "  Stored in directory: c:\\users\\01979194211\\appdata\\local\\pip\\cache\\wheels\\b2\\9b\\02\\059beba389e7e31a635bd9e8d9b7299f4ec11caca1f237f56d\n",
      "  Building wheel for mouseinfo (setup.py): started\n",
      "  Building wheel for mouseinfo (setup.py): finished with status 'done'\n",
      "  Created wheel for mouseinfo: filename=MouseInfo-0.1.3-py3-none-any.whl size=10906 sha256=423ae03a8fa3bee0e13a81a2143c1ebf7694e52c55d9c3e0b18e0873a3559a7b\n",
      "  Stored in directory: c:\\users\\01979194211\\appdata\\local\\pip\\cache\\wheels\\20\\0b\\7f\\939ac9ff785b09951c706150537572c00123412f260a6024f3\n",
      "  Building wheel for pymsgbox (pyproject.toml): started\n",
      "  Building wheel for pymsgbox (pyproject.toml): finished with status 'done'\n",
      "  Created wheel for pymsgbox: filename=PyMsgBox-1.0.9-py3-none-any.whl size=7417 sha256=0e58bf33c6432715414bcad99f8669565a3651cc0e0a6df73936039018ae4300\n",
      "  Stored in directory: c:\\users\\01979194211\\appdata\\local\\pip\\cache\\wheels\\85\\92\\63\\e126ee5f33d8f2ed04f96e43ef5df7270a2f331848752e8662\n",
      "  Building wheel for pyperclip (setup.py): started\n",
      "  Building wheel for pyperclip (setup.py): finished with status 'done'\n",
      "  Created wheel for pyperclip: filename=pyperclip-1.8.2-py3-none-any.whl size=11137 sha256=f29d48987b72cef6f038399fc510741f375701cc42013d32ac637a080f032038\n",
      "  Stored in directory: c:\\users\\01979194211\\appdata\\local\\pip\\cache\\wheels\\70\\bd\\ba\\8ae5c080c895c9360fe6e153acda2dee82527374467eae061b\n",
      "  Building wheel for pyrect (setup.py): started\n",
      "  Building wheel for pyrect (setup.py): finished with status 'done'\n",
      "  Created wheel for pyrect: filename=PyRect-0.2.0-py2.py3-none-any.whl size=11205 sha256=ec3455e80f142982510f2e5472bbfd0523462036644b919fb0a035c8218a67e2\n",
      "  Stored in directory: c:\\users\\01979194211\\appdata\\local\\pip\\cache\\wheels\\c4\\e9\\fc\\b7a666dd4f9a3168fb44d643079b41d36ddab52f470707e820\n",
      "Successfully built pyautogui pygetwindow pyscreeze pytweening mouseinfo pymsgbox pyperclip pyrect\n",
      "Installing collected packages: pytweening, pyrect, pyperclip, pymsgbox, entrypoint2, EasyProcess, pygetwindow, mss, mouseinfo, pyscreenshot, pyscreeze, pyautogui\n",
      "Successfully installed EasyProcess-1.1 entrypoint2-1.1 mouseinfo-0.1.3 mss-9.0.1 pyautogui-0.9.54 pygetwindow-0.0.9 pymsgbox-1.0.9 pyperclip-1.8.2 pyrect-0.2.0 pyscreenshot-3.1 pyscreeze-0.1.29 pytweening-1.0.7\n"
     ]
    }
   ],
   "source": [
    "!pip install pyautogui"
   ]
  },
  {
   "cell_type": "code",
   "execution_count": 3,
   "id": "92206657",
   "metadata": {},
   "outputs": [
    {
     "name": "stdout",
     "output_type": "stream",
     "text": [
      "Requirement already satisfied: pyperclip in c:\\users\\01979194211\\anaconda3\\lib\\site-packages (1.8.2)\n"
     ]
    }
   ],
   "source": [
    "!pip install pyperclip"
   ]
  },
  {
   "cell_type": "markdown",
   "id": "54c3f632",
   "metadata": {},
   "source": [
    "## Buscar informações de ações"
   ]
  },
  {
   "cell_type": "code",
   "execution_count": 4,
   "id": "7171f20a",
   "metadata": {},
   "outputs": [],
   "source": [
    "import yfinance"
   ]
  },
  {
   "cell_type": "code",
   "execution_count": 10,
   "id": "f3c32ce0",
   "metadata": {},
   "outputs": [
    {
     "name": "stdout",
     "output_type": "stream",
     "text": [
      "Digite o código da ação: PETR4.SA\n"
     ]
    }
   ],
   "source": [
    "codigo = input(\"Digite o código da ação: \")\n",
    "\n",
    "dados = yfinance.Ticker(codigo).history(\"6mo\")"
   ]
  },
  {
   "cell_type": "code",
   "execution_count": 13,
   "id": "1246ca20",
   "metadata": {},
   "outputs": [],
   "source": [
    "fechamento = dados.Close"
   ]
  },
  {
   "cell_type": "code",
   "execution_count": 15,
   "id": "8e86d089",
   "metadata": {},
   "outputs": [
    {
     "data": {
      "text/plain": [
       "<Axes: xlabel='Date'>"
      ]
     },
     "execution_count": 15,
     "metadata": {},
     "output_type": "execute_result"
    },
    {
     "data": {
      "image/png": "[encoded data removed]",
      "text/plain": [
       "<Figure size 640x480 with 1 Axes>"
      ]
     },
     "metadata": {},
     "output_type": "display_data"
    }
   ],
   "source": [
    "fechamento.plot()"
   ]
  },
  {
   "cell_type": "markdown",
   "id": "0d656f4c",
   "metadata": {},
   "source": [
    "## Gerar análises \n",
    "\n",
    "- 6 meses\n",
    "- Cotação máxima\n",
    "- Cotação mínima\n",
    "- Cotação atual"
   ]
  },
  {
   "cell_type": "code",
   "execution_count": 29,
   "id": "4b32039c",
   "metadata": {},
   "outputs": [],
   "source": [
    "maxima = round(fechamento.max(),2)\n",
    "minima = round(fechamento.min(),2)\n",
    "atual = round(fechamento[-1], 2)"
   ]
  },
  {
   "cell_type": "code",
   "execution_count": 30,
   "id": "c384a5b9",
   "metadata": {},
   "outputs": [
    {
     "name": "stdout",
     "output_type": "stream",
     "text": [
      "38.52\n",
      "20.49\n",
      "38.11\n"
     ]
    }
   ],
   "source": [
    "print (maxima)\n",
    "print (minima)\n",
    "print (atual)"
   ]
  },
  {
   "cell_type": "markdown",
   "id": "fae3790d",
   "metadata": {},
   "source": [
    "## Enviar e-mail automaticamente\n",
    "\n",
    "- abrir uma nova aba (ctrl + t)\n",
    "- digitar o endereço do Gmail\n",
    "- clicar enter\n",
    "- clicar no botão escrever\n",
    "- preencher o destinatário (clicar tab)\n",
    "- preencher o assunto (clicar tab)\n",
    "- preencher corpo do e-mail\n",
    "- clicar no botão enviar"
   ]
  },
  {
   "cell_type": "code",
   "execution_count": 31,
   "id": "7cb13d4c",
   "metadata": {},
   "outputs": [],
   "source": [
    "import pyautogui\n",
    "import pyperclip"
   ]
  },
  {
   "cell_type": "code",
   "execution_count": 41,
   "id": "abfe8f66",
   "metadata": {},
   "outputs": [],
   "source": [
    "# Configurando o Pyautogui para dar uma pausa de 3 segundos entre os passos\n",
    "pyautogui.PAUSE = 3\n",
    "\n",
    "# abrir uma nova aba (ctrl + t)\n",
    "pyautogui.hotkey(\"ctrl\", \"t\")\n",
    "\n",
    "# digitar o endereço do Gmail\n",
    "pyperclip.copy(\"www.gmail.com\")\n",
    "pyautogui.hotkey(\"ctrl\", \"v\")\n",
    "pyautogui.hotkey(\"enter\")\n",
    "\n",
    "# clicar no botão escrever\n",
    "pyautogui.click(x=94, y=176)\n",
    "\n",
    "# preencher o destinatário (clicar tab)\n",
    "pyperclip.copy(\"email@gmail.com\")\n",
    "pyautogui.hotkey(\"ctrl\", \"v\")\n",
    "pyautogui.hotkey(\"tab\")\n",
    "\n",
    "# preencher o assunto (clicar tab)\n",
    "pyperclip.copy(\"Análises diárias\")\n",
    "pyautogui.hotkey(\"ctrl\", \"v\")\n",
    "pyautogui.hotkey(\"tab\")\n",
    "\n",
    "# preencher corpo do e-mail\n",
    "mensagem = f\"\"\"\n",
    "Prezado Gestor,\n",
    "\n",
    "Seguem as análises diárias da ação {codigo} referentes aos últimos seis meses:\n",
    "\n",
    "Cotação máxima: R${maxima}\n",
    "Cotação mínima: R${minima}\n",
    "Cotação atual: R${atual}\n",
    "\n",
    "Qualquer dúvida, estou à disposição!\n",
    "\"\"\"\n",
    "\n",
    "pyperclip.copy(mensagem)\n",
    "pyautogui.hotkey(\"ctrl\", \"v\")\n",
    "\n",
    "# clicar no botão enviar\n",
    "pyautogui.click(x=817, y=825)\n",
    "\n",
    "\n"
   ]
  },
  {
   "cell_type": "code",
   "execution_count": 42,
   "id": "bb4ea0ec",
   "metadata": {},
   "outputs": [
    {
     "data": {
      "text/plain": [
       "Point(x=463, y=610)"
      ]
     },
     "execution_count": 42,
     "metadata": {},
     "output_type": "execute_result"
    }
   ],
   "source": [
    "# verificar posição do mouse na tela\n",
    "import time\n",
    "\n",
    "time.sleep(5)\n",
    "pyautogui.position()"
   ]
  }
 ],
 "metadata": {
  "kernelspec": {
   "display_name": "Python 3 (ipykernel)",
   "language": "python",
   "name": "python3"
  },
  "language_info": {
   "codemirror_mode": {
    "name": "ipython",
    "version": 3
   },
   "file_extension": ".py",
   "mimetype": "text/x-python",
   "name": "python",
   "nbconvert_exporter": "python",
   "pygments_lexer": "ipython3",
   "version": "3.11.5"
  }
 },
 "nbformat": 4,
 "nbformat_minor": 5
}
