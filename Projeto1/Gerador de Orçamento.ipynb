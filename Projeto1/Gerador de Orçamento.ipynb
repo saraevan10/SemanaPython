{
 "cells": [
  {
   "cell_type": "markdown",
   "id": "7de8432b",
   "metadata": {},
   "source": [
    "# Gerador de Orçamento"
   ]
  },
  {
   "cell_type": "markdown",
   "id": "fc16f9b0",
   "metadata": {},
   "source": [
    "## Projeto \n",
    "<BR>\n",
    "    \n",
    "**OBJETIVO**\n",
    "- Gerar **automaticamente** PDFs com PYTHON\n",
    "\n",
    "**CENÁRIO**\n",
    "\n",
    "- Emitir **orçamentos** para sua empresa\n"
   ]
  },
  {
   "cell_type": "markdown",
   "id": "149106f6",
   "metadata": {},
   "source": [
    "## Desenvolvendo as entradas de dados\n",
    "\n",
    "- Descrição do projeto\n",
    "- Total de horas estimadas\n",
    "- Valor da hora de trabalho\n",
    "- Poazo de netrega estimado\n"
   ]
  },
  {
   "cell_type": "code",
   "execution_count": 5,
   "id": "8660fa64",
   "metadata": {},
   "outputs": [
    {
     "name": "stdout",
     "output_type": "stream",
     "text": [
      "Digite a descrição do projeto: Desenvolvimento Python\n",
      "Digite a quantidade de horas previstas: 300\n",
      "Digite o valor da hora trabalhada: 100\n",
      "Digite o prazo estimado: 3 meses\n"
     ]
    }
   ],
   "source": [
    "projeto = input(\"Digite a descrição do projeto: \")\n",
    "horas_previstas = input (\"Digite a quantidade de horas previstas: \")\n",
    "valor_hora = input (\"Digite o valor da hora trabalhada: \")\n",
    "prazo = input (\"Digite o prazo estimado: \")\n"
   ]
  },
  {
   "cell_type": "markdown",
   "id": "74382e21",
   "metadata": {},
   "source": [
    "## Criando o cálculo do valor total estimado\n",
    "<br>\n",
    "\n",
    "- **Cálculo**: valor total estimado = total de horas estimadas X valor da hora de trabalho"
   ]
  },
  {
   "cell_type": "code",
   "execution_count": 6,
   "id": "0c863710",
   "metadata": {},
   "outputs": [],
   "source": [
    "valor_total = int(horas_previstas) * int(valor_hora)\n"
   ]
  },
  {
   "cell_type": "code",
   "execution_count": 7,
   "id": "de281654",
   "metadata": {},
   "outputs": [
    {
     "name": "stdout",
     "output_type": "stream",
     "text": [
      "30000\n"
     ]
    }
   ],
   "source": [
    "print(valor_total)"
   ]
  },
  {
   "cell_type": "markdown",
   "id": "3258d15c",
   "metadata": {},
   "source": [
    "## Gerando o PDF com o orçamento"
   ]
  },
  {
   "cell_type": "markdown",
   "id": "0721ed9f",
   "metadata": {},
   "source": [
    "### Instalando a biblioteca"
   ]
  },
  {
   "cell_type": "code",
   "execution_count": 22,
   "id": "b61b7f24",
   "metadata": {},
   "outputs": [
    {
     "name": "stdout",
     "output_type": "stream",
     "text": [
      "Requirement already satisfied: fpdf in c:\\users\\01979194211\\anaconda3\\lib\\site-packages (1.7.2)\n"
     ]
    }
   ],
   "source": [
    "!pip install fpdf"
   ]
  },
  {
   "cell_type": "code",
   "execution_count": 9,
   "id": "d5732e87",
   "metadata": {},
   "outputs": [],
   "source": [
    "# importando a biblioteca\n",
    "from fpdf import FPDF"
   ]
  },
  {
   "cell_type": "markdown",
   "id": "4c0958d7",
   "metadata": {},
   "source": [
    "### Criando um arquivo PDF; Inserindo os dados no PDF; Salvando o arquivo"
   ]
  },
  {
   "cell_type": "code",
   "execution_count": 10,
   "id": "61b4d22b",
   "metadata": {},
   "outputs": [
    {
     "name": "stdout",
     "output_type": "stream",
     "text": [
      "Orçamento gerado com sucesso!\n"
     ]
    }
   ],
   "source": [
    "pdf = FPDF()\n",
    "\n",
    "pdf.add_page()\n",
    "pdf.set_font(\"Arial\")\n",
    "\n",
    "# utilizando um template\n",
    "pdf.image(\"template.png\", x=0, y=0)\n",
    "\n",
    "# inserindo os dados do projeto\n",
    "pdf.text(115, 145, projeto)\n",
    "pdf.text(115, 160, horas_previstas)\n",
    "pdf.text(115, 175, valor_hora)\n",
    "pdf.text(115, 190, prazo)\n",
    "pdf.text(115, 205, str(valor_total))\n",
    "\n",
    "pdf.output(\"orcamento.pdf\")\n",
    "print (\"Orçamento gerado com sucesso!\")\n",
    "\n"
   ]
  }
 ],
 "metadata": {
  "kernelspec": {
   "display_name": "Python 3 (ipykernel)",
   "language": "python",
   "name": "python3"
  },
  "language_info": {
   "codemirror_mode": {
    "name": "ipython",
    "version": 3
   },
   "file_extension": ".py",
   "mimetype": "text/x-python",
   "name": "python",
   "nbconvert_exporter": "python",
   "pygments_lexer": "ipython3",
   "version": "3.11.5"
  }
 },
 "nbformat": 4,
 "nbformat_minor": 5
}
